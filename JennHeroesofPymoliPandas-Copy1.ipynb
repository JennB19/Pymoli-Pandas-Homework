{
 "cells": [
  {
   "cell_type": "markdown",
   "metadata": {},
   "source": [
    "# Heroes Of Pymoli Data Analysis & Insights\n",
    "\n",
    "* Of the 560 total players, the vast majority are male (84%). There also exists, a smaller, but notable proportion of female players (14%).\n",
    "* Our peak age demographic falls between 20-24 (44.8%) with secondary groups falling between 15-19 (18.60%) and 25-29 (13.4%) in terms of purchasing behavior.  \n",
    "* The top spender made 5 purchases for a total value of $18.96.\n",
    "* The most popular and profitable game is Oath Breaker- Last Hope of the Breaking Storm."
   ]
  },
  {
   "cell_type": "markdown",
   "metadata": {},
   "source": [
    "### Note\n",
    "* Instructions have been included for each segment. You do not have to follow them exactly, but they are included to help you think through the steps."
   ]
  },
  {
   "cell_type": "code",
   "execution_count": 1,
   "metadata": {},
   "outputs": [
    {
     "data": {
      "text/html": [
       "<div>\n",
       "<style scoped>\n",
       "    .dataframe tbody tr th:only-of-type {\n",
       "        vertical-align: middle;\n",
       "    }\n",
       "\n",
       "    .dataframe tbody tr th {\n",
       "        vertical-align: top;\n",
       "    }\n",
       "\n",
       "    .dataframe thead th {\n",
       "        text-align: right;\n",
       "    }\n",
       "</style>\n",
       "<table border=\"1\" class=\"dataframe\">\n",
       "  <thead>\n",
       "    <tr style=\"text-align: right;\">\n",
       "      <th></th>\n",
       "      <th>Purchase ID</th>\n",
       "      <th>SN</th>\n",
       "      <th>Age</th>\n",
       "      <th>Gender</th>\n",
       "      <th>Item ID</th>\n",
       "      <th>Item Name</th>\n",
       "      <th>Price</th>\n",
       "    </tr>\n",
       "  </thead>\n",
       "  <tbody>\n",
       "    <tr>\n",
       "      <th>0</th>\n",
       "      <td>0</td>\n",
       "      <td>Lisim78</td>\n",
       "      <td>20</td>\n",
       "      <td>Male</td>\n",
       "      <td>108</td>\n",
       "      <td>Extraction, Quickblade Of Trembling Hands</td>\n",
       "      <td>3.53</td>\n",
       "    </tr>\n",
       "    <tr>\n",
       "      <th>1</th>\n",
       "      <td>1</td>\n",
       "      <td>Lisovynya38</td>\n",
       "      <td>40</td>\n",
       "      <td>Male</td>\n",
       "      <td>143</td>\n",
       "      <td>Frenzied Scimitar</td>\n",
       "      <td>1.56</td>\n",
       "    </tr>\n",
       "    <tr>\n",
       "      <th>2</th>\n",
       "      <td>2</td>\n",
       "      <td>Ithergue48</td>\n",
       "      <td>24</td>\n",
       "      <td>Male</td>\n",
       "      <td>92</td>\n",
       "      <td>Final Critic</td>\n",
       "      <td>4.88</td>\n",
       "    </tr>\n",
       "    <tr>\n",
       "      <th>3</th>\n",
       "      <td>3</td>\n",
       "      <td>Chamassasya86</td>\n",
       "      <td>24</td>\n",
       "      <td>Male</td>\n",
       "      <td>100</td>\n",
       "      <td>Blindscythe</td>\n",
       "      <td>3.27</td>\n",
       "    </tr>\n",
       "    <tr>\n",
       "      <th>4</th>\n",
       "      <td>4</td>\n",
       "      <td>Iskosia90</td>\n",
       "      <td>23</td>\n",
       "      <td>Male</td>\n",
       "      <td>131</td>\n",
       "      <td>Fury</td>\n",
       "      <td>1.44</td>\n",
       "    </tr>\n",
       "  </tbody>\n",
       "</table>\n",
       "</div>"
      ],
      "text/plain": [
       "   Purchase ID             SN  Age Gender  Item ID  \\\n",
       "0            0        Lisim78   20   Male      108   \n",
       "1            1    Lisovynya38   40   Male      143   \n",
       "2            2     Ithergue48   24   Male       92   \n",
       "3            3  Chamassasya86   24   Male      100   \n",
       "4            4      Iskosia90   23   Male      131   \n",
       "\n",
       "                                   Item Name  Price  \n",
       "0  Extraction, Quickblade Of Trembling Hands   3.53  \n",
       "1                          Frenzied Scimitar   1.56  \n",
       "2                               Final Critic   4.88  \n",
       "3                                Blindscythe   3.27  \n",
       "4                                       Fury   1.44  "
      ]
     },
     "execution_count": 1,
     "metadata": {},
     "output_type": "execute_result"
    }
   ],
   "source": [
    "# Dependencies and Setup\n",
    "import pandas as pd\n",
    "import numpy as np\n",
    "\n",
    "# File to Load (Remember to Change These)\n",
    "file_to_load = \"Resources/purchase_data.csv\"\n",
    "\n",
    "# Read Purchasing File and store into Pandas data frame\n",
    "purchase_data_df = pd.read_csv(file_to_load)\n",
    "purchase_data_df.head()\n"
   ]
  },
  {
   "cell_type": "markdown",
   "metadata": {},
   "source": [
    "## Player Count"
   ]
  },
  {
   "cell_type": "markdown",
   "metadata": {},
   "source": [
    "* Display the total number of players\n"
   ]
  },
  {
   "cell_type": "code",
   "execution_count": 2,
   "metadata": {
    "scrolled": true
   },
   "outputs": [
    {
     "data": {
      "text/html": [
       "<div>\n",
       "<style scoped>\n",
       "    .dataframe tbody tr th:only-of-type {\n",
       "        vertical-align: middle;\n",
       "    }\n",
       "\n",
       "    .dataframe tbody tr th {\n",
       "        vertical-align: top;\n",
       "    }\n",
       "\n",
       "    .dataframe thead th {\n",
       "        text-align: right;\n",
       "    }\n",
       "</style>\n",
       "<table border=\"1\" class=\"dataframe\">\n",
       "  <thead>\n",
       "    <tr style=\"text-align: right;\">\n",
       "      <th></th>\n",
       "      <th>Total Players</th>\n",
       "    </tr>\n",
       "  </thead>\n",
       "  <tbody>\n",
       "    <tr>\n",
       "      <th>0</th>\n",
       "      <td>576</td>\n",
       "    </tr>\n",
       "  </tbody>\n",
       "</table>\n",
       "</div>"
      ],
      "text/plain": [
       "   Total Players\n",
       "0            576"
      ]
     },
     "execution_count": 2,
     "metadata": {},
     "output_type": "execute_result"
    }
   ],
   "source": [
    "total_players = len(purchase_data_df[\"SN\"].value_counts())\n",
    "\n",
    "players_df = pd.DataFrame({\"Total Players\": total_players}, index = [0])\n",
    "\n",
    "players_df"
   ]
  },
  {
   "cell_type": "markdown",
   "metadata": {},
   "source": [
    "## Purchasing Analysis (Total)"
   ]
  },
  {
   "cell_type": "markdown",
   "metadata": {},
   "source": [
    "* Run basic calculations to obtain number of unique items, average price, etc.\n",
    "\n",
    "\n",
    "* Create a summary data frame to hold the results\n",
    "\n",
    "\n",
    "* Optional: give the displayed data cleaner formatting\n",
    "\n",
    "\n",
    "* Display the summary data frame\n"
   ]
  },
  {
   "cell_type": "code",
   "execution_count": 3,
   "metadata": {
    "scrolled": false
   },
   "outputs": [
    {
     "data": {
      "text/html": [
       "<div>\n",
       "<style scoped>\n",
       "    .dataframe tbody tr th:only-of-type {\n",
       "        vertical-align: middle;\n",
       "    }\n",
       "\n",
       "    .dataframe tbody tr th {\n",
       "        vertical-align: top;\n",
       "    }\n",
       "\n",
       "    .dataframe thead th {\n",
       "        text-align: right;\n",
       "    }\n",
       "</style>\n",
       "<table border=\"1\" class=\"dataframe\">\n",
       "  <thead>\n",
       "    <tr style=\"text-align: right;\">\n",
       "      <th></th>\n",
       "      <th>Number of unique items</th>\n",
       "      <th>Average price</th>\n",
       "      <th>Number of purchases</th>\n",
       "      <th>Total revenue</th>\n",
       "    </tr>\n",
       "  </thead>\n",
       "  <tbody>\n",
       "    <tr>\n",
       "      <th>0</th>\n",
       "      <td>183</td>\n",
       "      <td>$3.05</td>\n",
       "      <td>780</td>\n",
       "      <td>$2379.77</td>\n",
       "    </tr>\n",
       "  </tbody>\n",
       "</table>\n",
       "</div>"
      ],
      "text/plain": [
       "   Number of unique items Average price  Number of purchases Total revenue\n",
       "0                     183         $3.05                  780      $2379.77"
      ]
     },
     "execution_count": 3,
     "metadata": {},
     "output_type": "execute_result"
    }
   ],
   "source": [
    "# Unique items is the total distinct Item IDs, captured by value_counts\n",
    "unique_items = len(purchase_data_df[\"Item ID\"].value_counts())\n",
    "# Use mean on the price column to get average purchase amount\n",
    "avg_purchase_total = purchase_data_df[\"Price\"].mean()\n",
    "# Check the length of the Price series to get the total number of purchases\n",
    "total_purchases = len(purchase_data_df[\"Price\"])\n",
    "# Sum the Price series to get the total revenue\n",
    "total_revenue = purchase_data_df[\"Price\"].sum()\n",
    "\n",
    "purchasing_analysis_df = pd.DataFrame({\"Number of unique items\": unique_items,\n",
    "                                       \"Average price\": avg_purchase_total,\n",
    "                                       \"Number of purchases\": total_purchases,\n",
    "                                       \"Total revenue\": total_revenue}, index = [0])\n",
    "\n",
    "purchasing_analysis_df[\"Average price\"] = purchasing_analysis_df[\"Average price\"].map(\"${:.2f}\".format)\n",
    "purchasing_analysis_df[\"Total revenue\"] = purchasing_analysis_df[\"Total revenue\"].map(\"${:.2f}\".format)\n",
    "\n",
    "purchasing_analysis_df"
   ]
  },
  {
   "cell_type": "markdown",
   "metadata": {},
   "source": [
    "## Gender Demographics"
   ]
  },
  {
   "cell_type": "markdown",
   "metadata": {},
   "source": [
    "* Percentage and Count of Male Players\n",
    "\n",
    "\n",
    "* Percentage and Count of Female Players\n",
    "\n",
    "\n",
    "* Percentage and Count of Other / Non-Disclosed\n",
    "\n",
    "\n"
   ]
  },
  {
   "cell_type": "code",
   "execution_count": 4,
   "metadata": {
    "scrolled": true
   },
   "outputs": [
    {
     "data": {
      "text/html": [
       "<div>\n",
       "<style scoped>\n",
       "    .dataframe tbody tr th:only-of-type {\n",
       "        vertical-align: middle;\n",
       "    }\n",
       "\n",
       "    .dataframe tbody tr th {\n",
       "        vertical-align: top;\n",
       "    }\n",
       "\n",
       "    .dataframe thead th {\n",
       "        text-align: right;\n",
       "    }\n",
       "</style>\n",
       "<table border=\"1\" class=\"dataframe\">\n",
       "  <thead>\n",
       "    <tr style=\"text-align: right;\">\n",
       "      <th></th>\n",
       "      <th>Total Counts</th>\n",
       "      <th>Percentage of Players</th>\n",
       "    </tr>\n",
       "    <tr>\n",
       "      <th>Gender</th>\n",
       "      <th></th>\n",
       "      <th></th>\n",
       "    </tr>\n",
       "  </thead>\n",
       "  <tbody>\n",
       "    <tr>\n",
       "      <th>Female</th>\n",
       "      <td>81</td>\n",
       "      <td>14.06</td>\n",
       "    </tr>\n",
       "    <tr>\n",
       "      <th>Male</th>\n",
       "      <td>484</td>\n",
       "      <td>84.03</td>\n",
       "    </tr>\n",
       "    <tr>\n",
       "      <th>Other / Non-Disclosed</th>\n",
       "      <td>11</td>\n",
       "      <td>1.91</td>\n",
       "    </tr>\n",
       "  </tbody>\n",
       "</table>\n",
       "</div>"
      ],
      "text/plain": [
       "                       Total Counts Percentage of Players\n",
       "Gender                                                   \n",
       "Female                           81                 14.06\n",
       "Male                            484                 84.03\n",
       "Other / Non-Disclosed            11                  1.91"
      ]
     },
     "execution_count": 4,
     "metadata": {},
     "output_type": "execute_result"
    }
   ],
   "source": [
    "# Group by Gender in order to extract summary data\n",
    "gender_grouped = purchase_data_df.groupby(\"Gender\")\n",
    "unique_members = gender_grouped[\"SN\"].nunique()\n",
    "\n",
    "# Create a data frame with the summary gender data\n",
    "gender_demo = pd.DataFrame({\"Total Counts\": unique_members,\n",
    "                           \"Percentage of Players\": 100*unique_members/total_players})\n",
    "\n",
    "gender_demo[\"Percentage of Players\"] = gender_demo[\"Percentage of Players\"].map(\"{:.2f}\".format)\n",
    "\n",
    "gender_demo"
   ]
  },
  {
   "cell_type": "markdown",
   "metadata": {},
   "source": [
    "\n",
    "## Purchasing Analysis (Gender)"
   ]
  },
  {
   "cell_type": "markdown",
   "metadata": {},
   "source": [
    "* Run basic calculations to obtain purchase count, avg. purchase price, avg. purchase total per person etc. by gender\n",
    "\n",
    "\n",
    "\n",
    "\n",
    "* Create a summary data frame to hold the results\n",
    "\n",
    "\n",
    "* Optional: give the displayed data cleaner formatting\n",
    "\n",
    "\n",
    "* Display the summary data frame"
   ]
  },
  {
   "cell_type": "code",
   "execution_count": 5,
   "metadata": {},
   "outputs": [
    {
     "data": {
      "text/html": [
       "<div>\n",
       "<style scoped>\n",
       "    .dataframe tbody tr th:only-of-type {\n",
       "        vertical-align: middle;\n",
       "    }\n",
       "\n",
       "    .dataframe tbody tr th {\n",
       "        vertical-align: top;\n",
       "    }\n",
       "\n",
       "    .dataframe thead th {\n",
       "        text-align: right;\n",
       "    }\n",
       "</style>\n",
       "<table border=\"1\" class=\"dataframe\">\n",
       "  <thead>\n",
       "    <tr style=\"text-align: right;\">\n",
       "      <th></th>\n",
       "      <th>Purchase count</th>\n",
       "      <th>Average purchase price</th>\n",
       "      <th>Total purchase value</th>\n",
       "      <th>Normalized Total</th>\n",
       "    </tr>\n",
       "    <tr>\n",
       "      <th>Gender</th>\n",
       "      <th></th>\n",
       "      <th></th>\n",
       "      <th></th>\n",
       "      <th></th>\n",
       "    </tr>\n",
       "  </thead>\n",
       "  <tbody>\n",
       "    <tr>\n",
       "      <th>Female</th>\n",
       "      <td>113</td>\n",
       "      <td>$3.20</td>\n",
       "      <td>$361.94</td>\n",
       "      <td>$4.47</td>\n",
       "    </tr>\n",
       "    <tr>\n",
       "      <th>Male</th>\n",
       "      <td>652</td>\n",
       "      <td>$3.02</td>\n",
       "      <td>$1967.64</td>\n",
       "      <td>$4.07</td>\n",
       "    </tr>\n",
       "    <tr>\n",
       "      <th>Other / Non-Disclosed</th>\n",
       "      <td>15</td>\n",
       "      <td>$3.35</td>\n",
       "      <td>$50.19</td>\n",
       "      <td>$4.56</td>\n",
       "    </tr>\n",
       "  </tbody>\n",
       "</table>\n",
       "</div>"
      ],
      "text/plain": [
       "                       Purchase count Average purchase price  \\\n",
       "Gender                                                         \n",
       "Female                            113                  $3.20   \n",
       "Male                              652                  $3.02   \n",
       "Other / Non-Disclosed              15                  $3.35   \n",
       "\n",
       "                      Total purchase value Normalized Total  \n",
       "Gender                                                       \n",
       "Female                             $361.94            $4.47  \n",
       "Male                              $1967.64            $4.07  \n",
       "Other / Non-Disclosed               $50.19            $4.56  "
      ]
     },
     "execution_count": 5,
     "metadata": {},
     "output_type": "execute_result"
    }
   ],
   "source": [
    "# Use methods on GroupedSeries objects to get relevant summary statistics\n",
    "purchase_count = gender_grouped[\"Age\"].count()\n",
    "avg_purchase = gender_grouped[\"Price\"].mean()\n",
    "total_purchase_value = gender_grouped[\"Price\"].sum()\n",
    "\n",
    "# Create a summary data frame\n",
    "purchasing_by_gender_df = pd.DataFrame({\"Purchase count\": purchase_count,\n",
    "                                       \"Average purchase price\": avg_purchase,\n",
    "                                       \"Total purchase value\": total_purchase_value,\n",
    "                                       \"Normalized Total\": total_purchase_value/unique_members})\n",
    "\n",
    "purchasing_by_gender_df[\"Average purchase price\"] = purchasing_by_gender_df[\"Average purchase price\"].map(\"${:.2f}\".format)\n",
    "purchasing_by_gender_df[\"Total purchase value\"] = purchasing_by_gender_df[\"Total purchase value\"].map(\"${:.2f}\".format)\n",
    "purchasing_by_gender_df[\"Normalized Total\"] = purchasing_by_gender_df[\"Normalized Total\"].map(\"${:.2f}\".format)\n",
    "\n",
    "purchasing_by_gender_df\n"
   ]
  },
  {
   "cell_type": "markdown",
   "metadata": {},
   "source": [
    "## Age Demographics"
   ]
  },
  {
   "cell_type": "markdown",
   "metadata": {},
   "source": [
    "* Establish bins for ages\n",
    "\n",
    "\n",
    "* Categorize the existing players using the age bins. Hint: use pd.cut()\n",
    "\n",
    "\n",
    "* Calculate the numbers and percentages by age group\n",
    "\n",
    "\n",
    "* Create a summary data frame to hold the results\n",
    "\n",
    "\n",
    "* Optional: round the percentage column to two decimal points\n",
    "\n",
    "\n",
    "* Display Age Demographics Table\n"
   ]
  },
  {
   "cell_type": "code",
   "execution_count": 6,
   "metadata": {},
   "outputs": [
    {
     "data": {
      "text/html": [
       "<div>\n",
       "<style scoped>\n",
       "    .dataframe tbody tr th:only-of-type {\n",
       "        vertical-align: middle;\n",
       "    }\n",
       "\n",
       "    .dataframe tbody tr th {\n",
       "        vertical-align: top;\n",
       "    }\n",
       "\n",
       "    .dataframe thead th {\n",
       "        text-align: right;\n",
       "    }\n",
       "</style>\n",
       "<table border=\"1\" class=\"dataframe\">\n",
       "  <thead>\n",
       "    <tr style=\"text-align: right;\">\n",
       "      <th></th>\n",
       "      <th>Purchase Counts</th>\n",
       "      <th>Percentage of Players</th>\n",
       "    </tr>\n",
       "    <tr>\n",
       "      <th>Age group</th>\n",
       "      <th></th>\n",
       "      <th></th>\n",
       "    </tr>\n",
       "  </thead>\n",
       "  <tbody>\n",
       "    <tr>\n",
       "      <th>&lt;10</th>\n",
       "      <td>17</td>\n",
       "      <td>2.95</td>\n",
       "    </tr>\n",
       "    <tr>\n",
       "      <th>10-14</th>\n",
       "      <td>22</td>\n",
       "      <td>3.82</td>\n",
       "    </tr>\n",
       "    <tr>\n",
       "      <th>15-19</th>\n",
       "      <td>107</td>\n",
       "      <td>18.58</td>\n",
       "    </tr>\n",
       "    <tr>\n",
       "      <th>20-24</th>\n",
       "      <td>258</td>\n",
       "      <td>44.79</td>\n",
       "    </tr>\n",
       "    <tr>\n",
       "      <th>25-29</th>\n",
       "      <td>77</td>\n",
       "      <td>13.37</td>\n",
       "    </tr>\n",
       "    <tr>\n",
       "      <th>30-34</th>\n",
       "      <td>52</td>\n",
       "      <td>9.03</td>\n",
       "    </tr>\n",
       "    <tr>\n",
       "      <th>35-39</th>\n",
       "      <td>31</td>\n",
       "      <td>5.38</td>\n",
       "    </tr>\n",
       "    <tr>\n",
       "      <th>40+</th>\n",
       "      <td>12</td>\n",
       "      <td>2.08</td>\n",
       "    </tr>\n",
       "  </tbody>\n",
       "</table>\n",
       "</div>"
      ],
      "text/plain": [
       "           Purchase Counts Percentage of Players\n",
       "Age group                                       \n",
       "<10                     17                  2.95\n",
       "10-14                   22                  3.82\n",
       "15-19                  107                 18.58\n",
       "20-24                  258                 44.79\n",
       "25-29                   77                 13.37\n",
       "30-34                   52                  9.03\n",
       "35-39                   31                  5.38\n",
       "40+                     12                  2.08"
      ]
     },
     "execution_count": 6,
     "metadata": {},
     "output_type": "execute_result"
    }
   ],
   "source": [
    "# Use halves because ages are whole numbers and borders appear to be inclusive\n",
    "# Made the last number very large to get any older folks included in the dataset\n",
    "bins = [0, 9.5, 14.5, 19.5, 24.5, 29.5, 34.5, 39.5, 1000]\n",
    "\n",
    "bin_labels = [\"<10\", \"10-14\", \"15-19\", \"20-24\", \"25-29\", \"30-34\", \"35-39\", \"40+\"]\n",
    "\n",
    "purchase_data_df[\"Age group\"] = pd.cut(purchase_data_df[\"Age\"], bins, labels = bin_labels)\n",
    "\n",
    "age_grouped = purchase_data_df.groupby(\"Age group\")\n",
    "\n",
    "unique_members = age_grouped[\"SN\"].nunique()\n",
    "\n",
    "age_demo = pd.DataFrame({\"Purchase Counts\": age_grouped[\"SN\"].nunique(),\n",
    "                           \"Percentage of Players\": 100*unique_members/total_players})\n",
    "\n",
    "age_demo[\"Percentage of Players\"] = age_demo[\"Percentage of Players\"].map(\"{:.2f}\".format)\n",
    "\n",
    "age_demo\n",
    "                         \n",
    "\n",
    "   "
   ]
  },
  {
   "cell_type": "markdown",
   "metadata": {},
   "source": [
    "## Purchasing Analysis (Age)"
   ]
  },
  {
   "cell_type": "markdown",
   "metadata": {},
   "source": [
    "* Bin the purchase_data data frame by age\n",
    "\n",
    "\n",
    "* Run basic calculations to obtain purchase count, avg. purchase price, avg. purchase total per person etc. in the table below\n",
    "\n",
    "\n",
    "* Create a summary data frame to hold the results\n",
    "\n",
    "\n",
    "* Optional: give the displayed data cleaner formatting\n",
    "\n",
    "\n",
    "* Display the summary data frame"
   ]
  },
  {
   "cell_type": "code",
   "execution_count": 8,
   "metadata": {},
   "outputs": [
    {
     "data": {
      "text/html": [
       "<div>\n",
       "<style scoped>\n",
       "    .dataframe tbody tr th:only-of-type {\n",
       "        vertical-align: middle;\n",
       "    }\n",
       "\n",
       "    .dataframe tbody tr th {\n",
       "        vertical-align: top;\n",
       "    }\n",
       "\n",
       "    .dataframe thead th {\n",
       "        text-align: right;\n",
       "    }\n",
       "</style>\n",
       "<table border=\"1\" class=\"dataframe\">\n",
       "  <thead>\n",
       "    <tr style=\"text-align: right;\">\n",
       "      <th></th>\n",
       "      <th>Purchase Count</th>\n",
       "      <th>Average Purchase Price</th>\n",
       "      <th>Total Purchase Value</th>\n",
       "      <th>Average Purchase Total Per Person</th>\n",
       "    </tr>\n",
       "    <tr>\n",
       "      <th>Age group</th>\n",
       "      <th></th>\n",
       "      <th></th>\n",
       "      <th></th>\n",
       "      <th></th>\n",
       "    </tr>\n",
       "  </thead>\n",
       "  <tbody>\n",
       "    <tr>\n",
       "      <th>&lt;10</th>\n",
       "      <td>23</td>\n",
       "      <td>$3.35</td>\n",
       "      <td>$77.13</td>\n",
       "      <td>$4.54</td>\n",
       "    </tr>\n",
       "    <tr>\n",
       "      <th>10-14</th>\n",
       "      <td>28</td>\n",
       "      <td>$2.96</td>\n",
       "      <td>$82.78</td>\n",
       "      <td>$3.76</td>\n",
       "    </tr>\n",
       "    <tr>\n",
       "      <th>15-19</th>\n",
       "      <td>136</td>\n",
       "      <td>$3.04</td>\n",
       "      <td>$412.89</td>\n",
       "      <td>$3.86</td>\n",
       "    </tr>\n",
       "    <tr>\n",
       "      <th>20-24</th>\n",
       "      <td>365</td>\n",
       "      <td>$3.05</td>\n",
       "      <td>$1114.06</td>\n",
       "      <td>$4.32</td>\n",
       "    </tr>\n",
       "    <tr>\n",
       "      <th>25-29</th>\n",
       "      <td>101</td>\n",
       "      <td>$2.90</td>\n",
       "      <td>$293.00</td>\n",
       "      <td>$3.81</td>\n",
       "    </tr>\n",
       "    <tr>\n",
       "      <th>30-34</th>\n",
       "      <td>73</td>\n",
       "      <td>$2.93</td>\n",
       "      <td>$214.00</td>\n",
       "      <td>$4.12</td>\n",
       "    </tr>\n",
       "    <tr>\n",
       "      <th>35-39</th>\n",
       "      <td>41</td>\n",
       "      <td>$3.60</td>\n",
       "      <td>$147.67</td>\n",
       "      <td>$4.76</td>\n",
       "    </tr>\n",
       "    <tr>\n",
       "      <th>40+</th>\n",
       "      <td>13</td>\n",
       "      <td>$2.94</td>\n",
       "      <td>$38.24</td>\n",
       "      <td>$3.19</td>\n",
       "    </tr>\n",
       "  </tbody>\n",
       "</table>\n",
       "</div>"
      ],
      "text/plain": [
       "           Purchase Count Average Purchase Price Total Purchase Value  \\\n",
       "Age group                                                               \n",
       "<10                    23                  $3.35               $77.13   \n",
       "10-14                  28                  $2.96               $82.78   \n",
       "15-19                 136                  $3.04              $412.89   \n",
       "20-24                 365                  $3.05             $1114.06   \n",
       "25-29                 101                  $2.90              $293.00   \n",
       "30-34                  73                  $2.93              $214.00   \n",
       "35-39                  41                  $3.60              $147.67   \n",
       "40+                    13                  $2.94               $38.24   \n",
       "\n",
       "          Average Purchase Total Per Person  \n",
       "Age group                                    \n",
       "<10                                   $4.54  \n",
       "10-14                                 $3.76  \n",
       "15-19                                 $3.86  \n",
       "20-24                                 $4.32  \n",
       "25-29                                 $3.81  \n",
       "30-34                                 $4.12  \n",
       "35-39                                 $4.76  \n",
       "40+                                   $3.19  "
      ]
     },
     "execution_count": 8,
     "metadata": {},
     "output_type": "execute_result"
    }
   ],
   "source": [
    "# Calculate Purchase Count, Average Purchase Price, Total Purchase Value , Average Purchase Per Person\n",
    "Purchase_Count = age_grouped[\"Age\"].count()\n",
    "Average_Purchase = age_grouped[\"Price\"].mean()\n",
    "Total_Purchase_Value = age_grouped[\"Price\"].sum()\n",
    "Average_Purchase_Person =(age_grouped[\"Price\"].sum()/unique_members)\n",
    "# Create \"Purchase_Analysis_Age\" DataFrame to hold the above results\n",
    "Purchase_Analysis_Age = pd.DataFrame({\"Purchase Count\":Purchase_Count,\n",
    "                                     \"Average Purchase Price\":Average_Purchase,\n",
    "                                     \"Total Purchase Value\":Total_Purchase_Value,\n",
    "                                     \"Average Purchase Total Per Person\":Average_Purchase_Person})\n",
    "# Data Munging\n",
    "Purchase_Analysis_Age[\"Average Purchase Price\"] = Purchase_Analysis_Age[\"Average Purchase Price\"].map(\"${:.2f}\".format)\n",
    "Purchase_Analysis_Age[\"Total Purchase Value\"]  = Purchase_Analysis_Age[\"Total Purchase Value\"].map(\"${:.2f}\".format)\n",
    "Purchase_Analysis_Age[\"Average Purchase Total Per Person\"] = Purchase_Analysis_Age[\"Average Purchase Total Per Person\"].map(\"${:.2f}\".format)\n",
    "Purchase_Analysis_Age"
   ]
  },
  {
   "cell_type": "markdown",
   "metadata": {},
   "source": [
    "## Top Spenders"
   ]
  },
  {
   "cell_type": "markdown",
   "metadata": {},
   "source": [
    "* Run basic calculations to obtain the results in the table below\n",
    "\n",
    "\n",
    "* Create a summary data frame to hold the results\n",
    "\n",
    "\n",
    "* Sort the total purchase value column in descending order\n",
    "\n",
    "\n",
    "* Optional: give the displayed data cleaner formatting\n",
    "\n",
    "\n",
    "* Display a preview of the summary data frame\n",
    "\n"
   ]
  },
  {
   "cell_type": "code",
   "execution_count": 9,
   "metadata": {},
   "outputs": [
    {
     "data": {
      "text/html": [
       "<style  type=\"text/css\" >\n",
       "</style><table id=\"T_3f7c7192_bba4_11e9_8639_144f8ae2dbea\" ><thead>    <tr>        <th class=\"blank level0\" ></th>        <th class=\"col_heading level0 col0\" >Purchase Count</th>        <th class=\"col_heading level0 col1\" >Average Purchase Price</th>        <th class=\"col_heading level0 col2\" >Total Purchase Value</th>    </tr>    <tr>        <th class=\"index_name level0\" >SN</th>        <th class=\"blank\" ></th>        <th class=\"blank\" ></th>        <th class=\"blank\" ></th>    </tr></thead><tbody>\n",
       "                <tr>\n",
       "                        <th id=\"T_3f7c7192_bba4_11e9_8639_144f8ae2dbealevel0_row0\" class=\"row_heading level0 row0\" >Lisosia93</th>\n",
       "                        <td id=\"T_3f7c7192_bba4_11e9_8639_144f8ae2dbearow0_col0\" class=\"data row0 col0\" >5</td>\n",
       "                        <td id=\"T_3f7c7192_bba4_11e9_8639_144f8ae2dbearow0_col1\" class=\"data row0 col1\" >$3.79</td>\n",
       "                        <td id=\"T_3f7c7192_bba4_11e9_8639_144f8ae2dbearow0_col2\" class=\"data row0 col2\" >$18.96</td>\n",
       "            </tr>\n",
       "            <tr>\n",
       "                        <th id=\"T_3f7c7192_bba4_11e9_8639_144f8ae2dbealevel0_row1\" class=\"row_heading level0 row1\" >Idastidru52</th>\n",
       "                        <td id=\"T_3f7c7192_bba4_11e9_8639_144f8ae2dbearow1_col0\" class=\"data row1 col0\" >4</td>\n",
       "                        <td id=\"T_3f7c7192_bba4_11e9_8639_144f8ae2dbearow1_col1\" class=\"data row1 col1\" >$3.86</td>\n",
       "                        <td id=\"T_3f7c7192_bba4_11e9_8639_144f8ae2dbearow1_col2\" class=\"data row1 col2\" >$15.45</td>\n",
       "            </tr>\n",
       "            <tr>\n",
       "                        <th id=\"T_3f7c7192_bba4_11e9_8639_144f8ae2dbealevel0_row2\" class=\"row_heading level0 row2\" >Chamjask73</th>\n",
       "                        <td id=\"T_3f7c7192_bba4_11e9_8639_144f8ae2dbearow2_col0\" class=\"data row2 col0\" >3</td>\n",
       "                        <td id=\"T_3f7c7192_bba4_11e9_8639_144f8ae2dbearow2_col1\" class=\"data row2 col1\" >$4.61</td>\n",
       "                        <td id=\"T_3f7c7192_bba4_11e9_8639_144f8ae2dbearow2_col2\" class=\"data row2 col2\" >$13.83</td>\n",
       "            </tr>\n",
       "            <tr>\n",
       "                        <th id=\"T_3f7c7192_bba4_11e9_8639_144f8ae2dbealevel0_row3\" class=\"row_heading level0 row3\" >Iral74</th>\n",
       "                        <td id=\"T_3f7c7192_bba4_11e9_8639_144f8ae2dbearow3_col0\" class=\"data row3 col0\" >4</td>\n",
       "                        <td id=\"T_3f7c7192_bba4_11e9_8639_144f8ae2dbearow3_col1\" class=\"data row3 col1\" >$3.40</td>\n",
       "                        <td id=\"T_3f7c7192_bba4_11e9_8639_144f8ae2dbearow3_col2\" class=\"data row3 col2\" >$13.62</td>\n",
       "            </tr>\n",
       "            <tr>\n",
       "                        <th id=\"T_3f7c7192_bba4_11e9_8639_144f8ae2dbealevel0_row4\" class=\"row_heading level0 row4\" >Iskadarya95</th>\n",
       "                        <td id=\"T_3f7c7192_bba4_11e9_8639_144f8ae2dbearow4_col0\" class=\"data row4 col0\" >3</td>\n",
       "                        <td id=\"T_3f7c7192_bba4_11e9_8639_144f8ae2dbearow4_col1\" class=\"data row4 col1\" >$4.37</td>\n",
       "                        <td id=\"T_3f7c7192_bba4_11e9_8639_144f8ae2dbearow4_col2\" class=\"data row4 col2\" >$13.10</td>\n",
       "            </tr>\n",
       "    </tbody></table>"
      ],
      "text/plain": [
       "<pandas.io.formats.style.Styler at 0x286ebe33f60>"
      ]
     },
     "execution_count": 9,
     "metadata": {},
     "output_type": "execute_result"
    }
   ],
   "source": [
    "# Group purchase data by screen names\n",
    "spender_stats = purchase_data_df.groupby(\"SN\")\n",
    "\n",
    "# Count the total purchases by name\n",
    "purchase_count_spender = spender_stats[\"Purchase ID\"].count()\n",
    "\n",
    "# Calculate the average purchase by name \n",
    "avg_purchase_price_spender = spender_stats[\"Price\"].mean()\n",
    "\n",
    "# Calculate purchase total \n",
    "purchase_total_spender = spender_stats[\"Price\"].sum()\n",
    "\n",
    "# Create data frame with obtained values\n",
    "top_spenders = pd.DataFrame({\"Purchase Count\": purchase_count_spender,\n",
    "                             \"Average Purchase Price\": avg_purchase_price_spender,\n",
    "                             \"Total Purchase Value\":purchase_total_spender})\n",
    "\n",
    "# Sort in descending order to obtain top 5 spender names \n",
    "formatted_spenders = top_spenders.sort_values([\"Total Purchase Value\"], ascending=False).head()\n",
    "\n",
    "# Format with currency style\n",
    "formatted_spenders.style.format({\"Average Purchase Total\":\"${:,.2f}\",\n",
    "                                 \"Average Purchase Price\":\"${:,.2f}\", \n",
    "                                 \"Total Purchase Value\":\"${:,.2f}\"})"
   ]
  },
  {
   "cell_type": "markdown",
   "metadata": {},
   "source": [
    "## Most Popular Items"
   ]
  },
  {
   "cell_type": "markdown",
   "metadata": {},
   "source": [
    "* Retrieve the Item ID, Item Name, and Item Price columns\n",
    "\n",
    "\n",
    "* Group by Item ID and Item Name. Perform calculations to obtain purchase count, item price, and total purchase value\n",
    "\n",
    "\n",
    "* Create a summary data frame to hold the results\n",
    "\n",
    "\n",
    "* Sort the purchase count column in descending order\n",
    "\n",
    "\n",
    "* Optional: give the displayed data cleaner formatting\n",
    "\n",
    "\n",
    "* Display a preview of the summary data frame\n",
    "\n"
   ]
  },
  {
   "cell_type": "code",
   "execution_count": 9,
   "metadata": {},
   "outputs": [
    {
     "data": {
      "text/html": [
       "<style  type=\"text/css\" >\n",
       "</style><table id=\"T_d9420170_bba7_11e9_a068_144f8ae2dbea\" ><thead>    <tr>        <th class=\"blank\" ></th>        <th class=\"blank level0\" ></th>        <th class=\"col_heading level0 col0\" >Purchase Count</th>        <th class=\"col_heading level0 col1\" >Item Price</th>        <th class=\"col_heading level0 col2\" >Total Purchase Value</th>    </tr>    <tr>        <th class=\"index_name level0\" >Item ID</th>        <th class=\"index_name level1\" >Item Name</th>        <th class=\"blank\" ></th>        <th class=\"blank\" ></th>        <th class=\"blank\" ></th>    </tr></thead><tbody>\n",
       "                <tr>\n",
       "                        <th id=\"T_d9420170_bba7_11e9_a068_144f8ae2dbealevel0_row0\" class=\"row_heading level0 row0\" >178</th>\n",
       "                        <th id=\"T_d9420170_bba7_11e9_a068_144f8ae2dbealevel1_row0\" class=\"row_heading level1 row0\" >Oathbreaker, Last Hope of the Breaking Storm</th>\n",
       "                        <td id=\"T_d9420170_bba7_11e9_a068_144f8ae2dbearow0_col0\" class=\"data row0 col0\" >12</td>\n",
       "                        <td id=\"T_d9420170_bba7_11e9_a068_144f8ae2dbearow0_col1\" class=\"data row0 col1\" >$4.23</td>\n",
       "                        <td id=\"T_d9420170_bba7_11e9_a068_144f8ae2dbearow0_col2\" class=\"data row0 col2\" >$50.76</td>\n",
       "            </tr>\n",
       "            <tr>\n",
       "                        <th id=\"T_d9420170_bba7_11e9_a068_144f8ae2dbealevel0_row1\" class=\"row_heading level0 row1\" >145</th>\n",
       "                        <th id=\"T_d9420170_bba7_11e9_a068_144f8ae2dbealevel1_row1\" class=\"row_heading level1 row1\" >Fiery Glass Crusader</th>\n",
       "                        <td id=\"T_d9420170_bba7_11e9_a068_144f8ae2dbearow1_col0\" class=\"data row1 col0\" >9</td>\n",
       "                        <td id=\"T_d9420170_bba7_11e9_a068_144f8ae2dbearow1_col1\" class=\"data row1 col1\" >$4.58</td>\n",
       "                        <td id=\"T_d9420170_bba7_11e9_a068_144f8ae2dbearow1_col2\" class=\"data row1 col2\" >$41.22</td>\n",
       "            </tr>\n",
       "            <tr>\n",
       "                        <th id=\"T_d9420170_bba7_11e9_a068_144f8ae2dbealevel0_row2\" class=\"row_heading level0 row2\" >108</th>\n",
       "                        <th id=\"T_d9420170_bba7_11e9_a068_144f8ae2dbealevel1_row2\" class=\"row_heading level1 row2\" >Extraction, Quickblade Of Trembling Hands</th>\n",
       "                        <td id=\"T_d9420170_bba7_11e9_a068_144f8ae2dbearow2_col0\" class=\"data row2 col0\" >9</td>\n",
       "                        <td id=\"T_d9420170_bba7_11e9_a068_144f8ae2dbearow2_col1\" class=\"data row2 col1\" >$3.53</td>\n",
       "                        <td id=\"T_d9420170_bba7_11e9_a068_144f8ae2dbearow2_col2\" class=\"data row2 col2\" >$31.77</td>\n",
       "            </tr>\n",
       "            <tr>\n",
       "                        <th id=\"T_d9420170_bba7_11e9_a068_144f8ae2dbealevel0_row3\" class=\"row_heading level0 row3\" >82</th>\n",
       "                        <th id=\"T_d9420170_bba7_11e9_a068_144f8ae2dbealevel1_row3\" class=\"row_heading level1 row3\" >Nirvana</th>\n",
       "                        <td id=\"T_d9420170_bba7_11e9_a068_144f8ae2dbearow3_col0\" class=\"data row3 col0\" >9</td>\n",
       "                        <td id=\"T_d9420170_bba7_11e9_a068_144f8ae2dbearow3_col1\" class=\"data row3 col1\" >$4.90</td>\n",
       "                        <td id=\"T_d9420170_bba7_11e9_a068_144f8ae2dbearow3_col2\" class=\"data row3 col2\" >$44.10</td>\n",
       "            </tr>\n",
       "            <tr>\n",
       "                        <th id=\"T_d9420170_bba7_11e9_a068_144f8ae2dbealevel0_row4\" class=\"row_heading level0 row4\" >19</th>\n",
       "                        <th id=\"T_d9420170_bba7_11e9_a068_144f8ae2dbealevel1_row4\" class=\"row_heading level1 row4\" >Pursuit, Cudgel of Necromancy</th>\n",
       "                        <td id=\"T_d9420170_bba7_11e9_a068_144f8ae2dbearow4_col0\" class=\"data row4 col0\" >8</td>\n",
       "                        <td id=\"T_d9420170_bba7_11e9_a068_144f8ae2dbearow4_col1\" class=\"data row4 col1\" >$1.02</td>\n",
       "                        <td id=\"T_d9420170_bba7_11e9_a068_144f8ae2dbearow4_col2\" class=\"data row4 col2\" >$8.16</td>\n",
       "            </tr>\n",
       "    </tbody></table>"
      ],
      "text/plain": [
       "<pandas.io.formats.style.Styler at 0x1f0aa559ba8>"
      ]
     },
     "execution_count": 9,
     "metadata": {},
     "output_type": "execute_result"
    }
   ],
   "source": [
    "# Create new data frame with items related information \n",
    "items = purchase_data_df[[\"Item ID\", \"Item Name\", \"Price\"]]\n",
    "\n",
    "# Group the item data by item id and item name \n",
    "item_stats = items.groupby([\"Item ID\",\"Item Name\"])\n",
    "\n",
    "# Count the number of times an item has been purchased \n",
    "purchase_count_item = item_stats[\"Price\"].count()\n",
    "\n",
    "# Calcualte the purchase value per item \n",
    "purchase_value = (item_stats[\"Price\"].sum()) \n",
    "\n",
    "# Find individual item price\n",
    "item_price = purchase_value/purchase_count_item\n",
    "\n",
    "# Create data frame with obtained values\n",
    "most_popular_items = pd.DataFrame({\"Purchase Count\": purchase_count_item, \n",
    "                                   \"Item Price\": item_price,\n",
    "                                   \"Total Purchase Value\":purchase_value})\n",
    "\n",
    "# Sort in descending order to obtain top spender names and provide top 5 item names\n",
    "popular_formatted = most_popular_items.sort_values([\"Purchase Count\"], ascending=False).head()\n",
    "\n",
    "# Format with currency style\n",
    "popular_formatted.style.format({\"Item Price\":\"${:,.2f}\",\n",
    "                                \"Total Purchase Value\":\"${:,.2f}\"})"
   ]
  },
  {
   "cell_type": "markdown",
   "metadata": {},
   "source": [
    "## Most Profitable Items"
   ]
  },
  {
   "cell_type": "markdown",
   "metadata": {},
   "source": [
    "* Sort the above table by total purchase value in descending order\n",
    "\n",
    "\n",
    "* Optional: give the displayed data cleaner formatting\n",
    "\n",
    "\n",
    "* Display a preview of the data frame\n",
    "\n"
   ]
  },
  {
   "cell_type": "code",
   "execution_count": 10,
   "metadata": {
    "scrolled": false
   },
   "outputs": [
    {
     "data": {
      "text/html": [
       "<style  type=\"text/css\" >\n",
       "</style><table id=\"T_db0f7bec_bba7_11e9_a878_144f8ae2dbea\" ><thead>    <tr>        <th class=\"blank\" ></th>        <th class=\"blank level0\" ></th>        <th class=\"col_heading level0 col0\" >Purchase Count</th>        <th class=\"col_heading level0 col1\" >Item Price</th>        <th class=\"col_heading level0 col2\" >Total Purchase Value</th>    </tr>    <tr>        <th class=\"index_name level0\" >Item ID</th>        <th class=\"index_name level1\" >Item Name</th>        <th class=\"blank\" ></th>        <th class=\"blank\" ></th>        <th class=\"blank\" ></th>    </tr></thead><tbody>\n",
       "                <tr>\n",
       "                        <th id=\"T_db0f7bec_bba7_11e9_a878_144f8ae2dbealevel0_row0\" class=\"row_heading level0 row0\" >178</th>\n",
       "                        <th id=\"T_db0f7bec_bba7_11e9_a878_144f8ae2dbealevel1_row0\" class=\"row_heading level1 row0\" >Oathbreaker, Last Hope of the Breaking Storm</th>\n",
       "                        <td id=\"T_db0f7bec_bba7_11e9_a878_144f8ae2dbearow0_col0\" class=\"data row0 col0\" >12</td>\n",
       "                        <td id=\"T_db0f7bec_bba7_11e9_a878_144f8ae2dbearow0_col1\" class=\"data row0 col1\" >$4.23</td>\n",
       "                        <td id=\"T_db0f7bec_bba7_11e9_a878_144f8ae2dbearow0_col2\" class=\"data row0 col2\" >$50.76</td>\n",
       "            </tr>\n",
       "            <tr>\n",
       "                        <th id=\"T_db0f7bec_bba7_11e9_a878_144f8ae2dbealevel0_row1\" class=\"row_heading level0 row1\" >82</th>\n",
       "                        <th id=\"T_db0f7bec_bba7_11e9_a878_144f8ae2dbealevel1_row1\" class=\"row_heading level1 row1\" >Nirvana</th>\n",
       "                        <td id=\"T_db0f7bec_bba7_11e9_a878_144f8ae2dbearow1_col0\" class=\"data row1 col0\" >9</td>\n",
       "                        <td id=\"T_db0f7bec_bba7_11e9_a878_144f8ae2dbearow1_col1\" class=\"data row1 col1\" >$4.90</td>\n",
       "                        <td id=\"T_db0f7bec_bba7_11e9_a878_144f8ae2dbearow1_col2\" class=\"data row1 col2\" >$44.10</td>\n",
       "            </tr>\n",
       "            <tr>\n",
       "                        <th id=\"T_db0f7bec_bba7_11e9_a878_144f8ae2dbealevel0_row2\" class=\"row_heading level0 row2\" >145</th>\n",
       "                        <th id=\"T_db0f7bec_bba7_11e9_a878_144f8ae2dbealevel1_row2\" class=\"row_heading level1 row2\" >Fiery Glass Crusader</th>\n",
       "                        <td id=\"T_db0f7bec_bba7_11e9_a878_144f8ae2dbearow2_col0\" class=\"data row2 col0\" >9</td>\n",
       "                        <td id=\"T_db0f7bec_bba7_11e9_a878_144f8ae2dbearow2_col1\" class=\"data row2 col1\" >$4.58</td>\n",
       "                        <td id=\"T_db0f7bec_bba7_11e9_a878_144f8ae2dbearow2_col2\" class=\"data row2 col2\" >$41.22</td>\n",
       "            </tr>\n",
       "            <tr>\n",
       "                        <th id=\"T_db0f7bec_bba7_11e9_a878_144f8ae2dbealevel0_row3\" class=\"row_heading level0 row3\" >92</th>\n",
       "                        <th id=\"T_db0f7bec_bba7_11e9_a878_144f8ae2dbealevel1_row3\" class=\"row_heading level1 row3\" >Final Critic</th>\n",
       "                        <td id=\"T_db0f7bec_bba7_11e9_a878_144f8ae2dbearow3_col0\" class=\"data row3 col0\" >8</td>\n",
       "                        <td id=\"T_db0f7bec_bba7_11e9_a878_144f8ae2dbearow3_col1\" class=\"data row3 col1\" >$4.88</td>\n",
       "                        <td id=\"T_db0f7bec_bba7_11e9_a878_144f8ae2dbearow3_col2\" class=\"data row3 col2\" >$39.04</td>\n",
       "            </tr>\n",
       "            <tr>\n",
       "                        <th id=\"T_db0f7bec_bba7_11e9_a878_144f8ae2dbealevel0_row4\" class=\"row_heading level0 row4\" >103</th>\n",
       "                        <th id=\"T_db0f7bec_bba7_11e9_a878_144f8ae2dbealevel1_row4\" class=\"row_heading level1 row4\" >Singed Scalpel</th>\n",
       "                        <td id=\"T_db0f7bec_bba7_11e9_a878_144f8ae2dbearow4_col0\" class=\"data row4 col0\" >8</td>\n",
       "                        <td id=\"T_db0f7bec_bba7_11e9_a878_144f8ae2dbearow4_col1\" class=\"data row4 col1\" >$4.35</td>\n",
       "                        <td id=\"T_db0f7bec_bba7_11e9_a878_144f8ae2dbearow4_col2\" class=\"data row4 col2\" >$34.80</td>\n",
       "            </tr>\n",
       "    </tbody></table>"
      ],
      "text/plain": [
       "<pandas.io.formats.style.Styler at 0x1f0bb685a20>"
      ]
     },
     "execution_count": 10,
     "metadata": {},
     "output_type": "execute_result"
    }
   ],
   "source": [
    "# Take the most_popular items data frame and change the sorting to find highest total purchase value\n",
    "popular_formatted = most_popular_items.sort_values([\"Total Purchase Value\"],\n",
    "                                                   ascending=False).head()\n",
    "# Format with currency style\n",
    "popular_formatted.style.format({\"Item Price\":\"${:,.2f}\",\n",
    "                                \"Total Purchase Value\":\"${:,.2f}\"})"
   ]
  },
  {
   "cell_type": "code",
   "execution_count": null,
   "metadata": {},
   "outputs": [],
   "source": []
  }
 ],
 "metadata": {
  "anaconda-cloud": {},
  "kernel_info": {
   "name": "python3"
  },
  "kernelspec": {
   "display_name": "Python 3",
   "language": "python",
   "name": "python3"
  },
  "language_info": {
   "codemirror_mode": {
    "name": "ipython",
    "version": 3
   },
   "file_extension": ".py",
   "mimetype": "text/x-python",
   "name": "python",
   "nbconvert_exporter": "python",
   "pygments_lexer": "ipython3",
   "version": "3.7.3"
  },
  "nteract": {
   "version": "0.2.0"
  }
 },
 "nbformat": 4,
 "nbformat_minor": 2
}
